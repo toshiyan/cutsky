{
 "cells": [
  {
   "cell_type": "code",
   "execution_count": 1,
   "metadata": {},
   "outputs": [],
   "source": [
    "import numpy as np, healpy as hp, pickle, curvedsky as cs, sys, local, plottools as pl\n",
    "from matplotlib.pyplot import *"
   ]
  },
  {
   "cell_type": "code",
   "execution_count": 2,
   "metadata": {},
   "outputs": [],
   "source": [
    "qids_d = ['boss_d01','boss_d02','boss_d03','boss_d04','s16_d01','s16_d02','s16_d03']\n",
    "qids_n = ['boss_01','boss_02','boss_03','boss_04']\n",
    "qids_d = ['boss_d01']\n",
    "qids_n = ['boss_01']\n",
    "qids_n = []\n",
    "qids = qids_d + qids_n"
   ]
  },
  {
   "cell_type": "code",
   "execution_count": 3,
   "metadata": {},
   "outputs": [],
   "source": [
    "aobj = {q: local.init_analysis_params(qid=q) for q in qids}"
   ]
  },
  {
   "cell_type": "code",
   "execution_count": 4,
   "metadata": {},
   "outputs": [],
   "source": [
    "rlzs = [0,1,13]"
   ]
  },
  {
   "cell_type": "code",
   "execution_count": 5,
   "metadata": {},
   "outputs": [
    {
     "name": "stdout",
     "output_type": "stream",
     "text": [
      "boss_d01 boss_d01\n"
     ]
    }
   ],
   "source": [
    "xl = {}\n",
    "for qi, qid in enumerate(qids): \n",
    "    for pid in qids[qi:]: \n",
    "        print(qid,pid)\n",
    "        xl[qid,pid] = np.zeros((len(aobj[qid].rlz),aobj[qid].lmax+1))\n",
    "        for ii, rlz in enumerate(rlzs):\n",
    "            Talm0 = pickle.load(open(aobj[qid].falm['c']['T'][rlz],\"rb\"))\n",
    "            Talm1 = pickle.load(open(aobj[pid].falm['c']['T'][rlz],\"rb\"))\n",
    "            xl[qid,pid][ii,:] = cs.utils.alm2cl(aobj[qid].lmax,Talm0,Talm1)"
   ]
  },
  {
   "cell_type": "code",
   "execution_count": 6,
   "metadata": {},
   "outputs": [
    {
     "data": {
      "image/png": "[encoded data removed]",
      "text/plain": [
       "<Figure size 432x144 with 1 Axes>"
      ]
     },
     "metadata": {
      "needs_background": "light"
     },
     "output_type": "display_data"
    },
    {
     "data": {
      "text/plain": [
       "<Figure size 432x144 with 0 Axes>"
      ]
     },
     "metadata": {},
     "output_type": "display_data"
    }
   ],
   "source": [
    "l = aobj['boss_d01'].l\n",
    "s = l**4/np.pi * 1e6\n",
    "for qi, qid in enumerate(qids):\n",
    "    for pid in qids[qi:]:\n",
    "        if pid == qid: pl.plot_1dstyle(fsize=[6,2],ymin=1e-1,ymax=1e2,ylog=True)\n",
    "        if pid != qid: pl.plot_1dstyle(fsize=[6,2],ymin=-1,ymax=1)\n",
    "        for ii, rlz in enumerate(rlzs):\n",
    "            plot(l,s*xl[qid,pid][ii,:],label=str(rlz))\n",
    "        title(pid+','+qid)\n",
    "        legend()\n",
    "        show()\n",
    "        clf()"
   ]
  },
  {
   "cell_type": "code",
   "execution_count": null,
   "metadata": {},
   "outputs": [],
   "source": []
  }
 ],
 "metadata": {
  "kernelspec": {
   "display_name": "py4so",
   "language": "python",
   "name": "py4so"
  },
  "language_info": {
   "codemirror_mode": {
    "name": "ipython",
    "version": 3
   },
   "file_extension": ".py",
   "mimetype": "text/x-python",
   "name": "python",
   "nbconvert_exporter": "python",
   "pygments_lexer": "ipython3",
   "version": "3.7.2"
  }
 },
 "nbformat": 4,
 "nbformat_minor": 4
}
